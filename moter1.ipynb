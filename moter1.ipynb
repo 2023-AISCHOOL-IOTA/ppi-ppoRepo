{
 "cells": [
  {
   "cell_type": "code",
   "execution_count": null,
   "id": "18d1b29e",
   "metadata": {},
   "outputs": [],
   "source": [
    "const int motorPin = 14; // 모터 연결 핀 (디지털 핀)\n",
    "\n",
    "void setup() {\n",
    "  pinMode(motorPin, OUTPUT);\n",
    "}\n",
    "\n",
    "void loop() {\n",
    "  // 모터를 시계 방향으로 회전\n",
    "  digitalWrite(motorPin, HIGH);\n",
    "\n",
    "//   // 모터 동작을 유지하기 위해 약간의 지연\n",
    "//   delay(1000);\n",
    "\n",
    "//   // 모터 정지\n",
    "//   digitalWrite(motorPin, LOW);\n",
    "\n",
    "//   // 모터 정지 후 대기\n",
    "//   delay(2000);\n",
    "// }``S"
   ]
  }
 ],
 "metadata": {
  "kernelspec": {
   "display_name": "Python 3 (ipykernel)",
   "language": "python",
   "name": "python3"
  },
  "language_info": {
   "codemirror_mode": {
    "name": "ipython",
    "version": 3
   },
   "file_extension": ".py",
   "mimetype": "text/x-python",
   "name": "python",
   "nbconvert_exporter": "python",
   "pygments_lexer": "ipython3",
   "version": "3.10.9"
  }
 },
 "nbformat": 4,
 "nbformat_minor": 5
}
