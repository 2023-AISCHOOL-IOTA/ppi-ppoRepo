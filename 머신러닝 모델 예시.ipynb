{
 "cells": [
  {
   "cell_type": "code",
   "execution_count": 1,
   "id": "5ad6d6f1",
   "metadata": {},
   "outputs": [
    {
     "name": "stdout",
     "output_type": "stream",
     "text": [
      "Mean Squared Error: 0.031308050672617015\n",
      "R-squared: 0.9130331925760639\n",
      "예측된 마르는 시간: 2.3618696069384146\n"
     ]
    }
   ],
   "source": [
    "# 필요한 라이브러리 임포트\n",
    "import numpy as np\n",
    "import pandas as pd\n",
    "from sklearn.model_selection import train_test_split\n",
    "from sklearn.linear_model import LinearRegression\n",
    "from sklearn.metrics import mean_squared_error, r2_score\n",
    "\n",
    "# 데이터 생성 (임의의 데이터를 사용하며, 실제 데이터를 사용해야 합니다)\n",
    "data = {\n",
    "    '온도': [25, 28, 20, 30, 22, 26, 27, 23, 21, 29],\n",
    "    '무게': [4, 6, 3, 5, 4.5, 5.5, 6.5, 3.5, 4, 5.5],\n",
    "    '습도': [50, 60, 40, 65, 55, 45, 70, 30, 50, 75],\n",
    "    '마르는_시간': [2, 3, 1.5, 3.5, 2.2, 2.8, 3.2, 2.1, 1.8, 3.3]\n",
    "}\n",
    "\n",
    "# 데이터프레임 생성\n",
    "df = pd.DataFrame(data)\n",
    "\n",
    "# 특성과 타겟 변수 분리\n",
    "X = df.drop(columns=['마르는_시간'])\n",
    "y = df['마르는_시간']\n",
    "\n",
    "# 데이터 분할: 학습 데이터와 테스트 데이터로 나눔\n",
    "X_train, X_test, y_train, y_test = train_test_split(X, y, test_size=0.2, random_state=42)\n",
    "\n",
    "# 머신러닝 모델 선택 및 학습\n",
    "model = LinearRegression()\n",
    "model.fit(X_train, y_train)\n",
    "\n",
    "# 학습된 모델을 테스트 데이터로 평가\n",
    "y_pred = model.predict(X_test)\n",
    "\n",
    "# 성능 평가\n",
    "mse = mean_squared_error(y_test, y_pred)        # -> 주로 예측값과 실제값 간의 오차를 계산하여 모델의 예측 정확도를 측정하는데 사용, 낮을수록 모델의 예측 정확도가 높음\n",
    "r2 = r2_score(y_test, y_pred)                   # -> 주어진 데이터에 얼마나 잘 적합되는지를 나타내며, 0에서 1 사이의 값을 가집니다. 높을수록 모델이 데이터에 잘 적합되었다는 의미\n",
    "\n",
    "# 결과 출력\n",
    "print(\"Mean Squared Error:\", mse)\n",
    "print(\"R-squared:\", r2)\n",
    "\n",
    "# 새로운 데이터로 마르는 시간 예측\n",
    "new_data = pd.DataFrame({'온도': [24], '무게': [4.5], '습도': [55]})\n",
    "predicted_time = model.predict(new_data)\n",
    "print(\"예측된 마르는 시간:\", predicted_time[0])"
   ]
  },
  {
   "cell_type": "code",
   "execution_count": null,
   "id": "d571b4b3",
   "metadata": {},
   "outputs": [],
   "source": []
  }
 ],
 "metadata": {
  "kernelspec": {
   "display_name": "Python 3 (ipykernel)",
   "language": "python",
   "name": "python3"
  },
  "language_info": {
   "codemirror_mode": {
    "name": "ipython",
    "version": 3
   },
   "file_extension": ".py",
   "mimetype": "text/x-python",
   "name": "python",
   "nbconvert_exporter": "python",
   "pygments_lexer": "ipython3",
   "version": "3.10.9"
  }
 },
 "nbformat": 4,
 "nbformat_minor": 5
}
